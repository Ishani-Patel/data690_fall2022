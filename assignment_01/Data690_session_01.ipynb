{
  "nbformat": 4,
  "nbformat_minor": 0,
  "metadata": {
    "colab": {
      "provenance": [],
      "collapsed_sections": [],
      "authorship_tag": "ABX9TyMr3MvKCxRlbD3ce7iVA9TQ",
      "include_colab_link": true
    },
    "kernelspec": {
      "name": "python3",
      "display_name": "Python 3"
    },
    "language_info": {
      "name": "python"
    }
  },
  "cells": [
    {
      "cell_type": "markdown",
      "metadata": {
        "id": "view-in-github",
        "colab_type": "text"
      },
      "source": [
        "<a href=\"https://colab.research.google.com/github/Ishani-Patel/data690_fall2022/blob/main/assignment_01/Data690_session_01.ipynb\" target=\"_parent\"><img src=\"https://colab.research.google.com/assets/colab-badge.svg\" alt=\"Open In Colab\"/></a>"
      ]
    },
    {
      "cell_type": "markdown",
      "source": [
        "# Data 690 Session 01\n",
        "This is the notebook for in class practice.\n",
        "- Name:Ishani Mayur Patel\n",
        "- Date: 09/01/2022"
      ],
      "metadata": {
        "id": "Y5LbX7t2sqaD"
      }
    },
    {
      "cell_type": "code",
      "execution_count": null,
      "metadata": {
        "colab": {
          "base_uri": "https://localhost:8080/"
        },
        "id": "WSIkaf6EsZIT",
        "outputId": "793591bb-2387-4351-a02e-a39140a2309c"
      },
      "outputs": [
        {
          "output_type": "stream",
          "name": "stdout",
          "text": [
            "Hello World\n"
          ]
        }
      ],
      "source": [
        "print('Hello World')"
      ]
    },
    {
      "cell_type": "code",
      "source": [
        "print('My Name','is Ishani')"
      ],
      "metadata": {
        "colab": {
          "base_uri": "https://localhost:8080/"
        },
        "id": "blvvx30nuvXC",
        "outputId": "b3238817-8bbb-490f-e017-6e5af262acbc"
      },
      "execution_count": 1,
      "outputs": [
        {
          "output_type": "stream",
          "name": "stdout",
          "text": [
            "My Name is Ishani\n"
          ]
        }
      ]
    },
    {
      "cell_type": "code",
      "source": [
        "age=22\n",
        "name='Ishani'\n",
        "print('My name is', name,',my age is', age,'.')"
      ],
      "metadata": {
        "colab": {
          "base_uri": "https://localhost:8080/"
        },
        "id": "3WDeDij0u8a7",
        "outputId": "bf7c93ee-213d-44c5-b5ea-f9ccac17a2d4"
      },
      "execution_count": 3,
      "outputs": [
        {
          "output_type": "stream",
          "name": "stdout",
          "text": [
            "My name is Ishani ,my age is 22 .\n"
          ]
        }
      ]
    },
    {
      "cell_type": "code",
      "source": [],
      "metadata": {
        "id": "-WuvrcHXvcQs"
      },
      "execution_count": null,
      "outputs": []
    }
  ]
}