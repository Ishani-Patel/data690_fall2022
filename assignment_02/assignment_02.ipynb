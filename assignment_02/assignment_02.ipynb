{
 "cells": [
  {
   "cell_type": "markdown",
   "id": "cb1efb49",
   "metadata": {},
   "source": [
    "## Assignment 02 - Ishani Patel (KV93419)\n",
    "##### Calculate the following statistics from the 10 integers entered and display the results back to the user:\n",
    " - Minimum\n",
    " - Maximum\n",
    " - Range\n",
    " - Mean\n",
    " - Variance\n",
    " - Standard Deviation"
   ]
  },
  {
   "cell_type": "code",
   "execution_count": 1,
   "id": "dcc06511",
   "metadata": {},
   "outputs": [],
   "source": [
    "# Importing numpy library for further uses\n",
    "import numpy as np"
   ]
  },
  {
   "cell_type": "code",
   "execution_count": 2,
   "id": "28f52370",
   "metadata": {},
   "outputs": [],
   "source": [
    "number_list=[] # Creating an empty list"
   ]
  },
  {
   "cell_type": "code",
   "execution_count": 3,
   "id": "24cbe209",
   "metadata": {},
   "outputs": [
    {
     "name": "stdout",
     "output_type": "stream",
     "text": [
      "Enter the integer 0:1\n",
      "Enter the integer 1:2\n",
      "Enter the integer 2:3\n",
      "Enter the integer 3:q\n",
      "It's not an integer\n",
      "Enter the integer 3:w\n",
      "It's not an integer\n",
      "Enter the integer 3:e\n",
      "It's not an integer\n",
      "Enter the integer 3:r\n",
      "It's not an integer\n",
      "Enter the integer 3:4\n",
      "Enter the integer 4:5\n",
      "Enter the integer 5:6\n",
      "Enter the integer 6:7\n",
      "Enter the integer 7:8\n",
      "Enter the integer 8:9\n",
      "Enter the integer 9:10\n"
     ]
    }
   ],
   "source": [
    "# Adding 10 integer values to the list and checking for any non-integer entry\n",
    "for i in range(0,10):\n",
    "    while True:\n",
    "        x=input(\"Enter element \" + str(i) + \": \")\n",
    "        try:\n",
    "            number_list.append(int(x))\n",
    "            break\n",
    "        except:\n",
    "            print(\"It's not an integer\")"
   ]
  },
  {
   "cell_type": "code",
   "execution_count": 17,
   "id": "fa5945c8",
   "metadata": {},
   "outputs": [
    {
     "data": {
      "text/plain": [
       "[1, 2, 3, 4, 5, 6, 7, 8, 9, 10]"
      ]
     },
     "execution_count": 17,
     "metadata": {},
     "output_type": "execute_result"
    }
   ],
   "source": [
    "number_list"
   ]
  },
  {
   "cell_type": "markdown",
   "id": "a7e7ecf4",
   "metadata": {},
   "source": [
    "### 1. Minimum"
   ]
  },
  {
   "cell_type": "code",
   "execution_count": 18,
   "id": "345dcedb",
   "metadata": {},
   "outputs": [
    {
     "name": "stdout",
     "output_type": "stream",
     "text": [
      "The minimum element of the list is 1\n"
     ]
    }
   ],
   "source": [
    "# Finding the minimum element from the list\n",
    "minimum=number_list[0]\n",
    "for i in number_list[1:]:\n",
    "    if i < minimum:\n",
    "        minimum=i\n",
    "    else:\n",
    "        continue\n",
    "print(\"The minimum element of the list is {}\".format(minimum))"
   ]
  },
  {
   "cell_type": "markdown",
   "id": "8095b284",
   "metadata": {},
   "source": [
    "### 2. Maximum\n"
   ]
  },
  {
   "cell_type": "code",
   "execution_count": 20,
   "id": "df2a8309",
   "metadata": {},
   "outputs": [
    {
     "name": "stdout",
     "output_type": "stream",
     "text": [
      "The maximum element of the list is 10\n"
     ]
    }
   ],
   "source": [
    "# Finding the maximum element from the list\n",
    "maximum=number_list[0]\n",
    "for i in number_list[1:]:\n",
    "    if i > maximum:\n",
    "        maximum=i\n",
    "    else:\n",
    "        continue\n",
    "print(\"The maximum element of the list is {}\".format(maximum))"
   ]
  },
  {
   "cell_type": "markdown",
   "id": "074d1c59",
   "metadata": {},
   "source": [
    "### 3. Range"
   ]
  },
  {
   "cell_type": "code",
   "execution_count": 21,
   "id": "60ae76ea",
   "metadata": {},
   "outputs": [
    {
     "name": "stdout",
     "output_type": "stream",
     "text": [
      "The range of the list is 9\n"
     ]
    }
   ],
   "source": [
    "# Calculating the range of the list\n",
    "range_of_list=maximum-minimum\n",
    "print(\"The range of the list is {}\".format(range_of_list))"
   ]
  },
  {
   "cell_type": "markdown",
   "id": "30f76afd",
   "metadata": {},
   "source": [
    "### 4. Mean"
   ]
  },
  {
   "cell_type": "code",
   "execution_count": 23,
   "id": "e4825f62",
   "metadata": {},
   "outputs": [
    {
     "name": "stdout",
     "output_type": "stream",
     "text": [
      "The mean of the list is 5.5\n"
     ]
    }
   ],
   "source": [
    "# Calculating the mean of the list\n",
    "total=0\n",
    "for i in range(0,len(number_list)):\n",
    "    total=total+number_list[i]\n",
    "mean=total/len(number_list)\n",
    "mean\n",
    "print(\"The mean of the list is {}\".format(mean))"
   ]
  },
  {
   "cell_type": "markdown",
   "id": "f6c49147",
   "metadata": {},
   "source": [
    "### 5. Variance"
   ]
  },
  {
   "cell_type": "code",
   "execution_count": 24,
   "id": "0b84d4b6",
   "metadata": {},
   "outputs": [
    {
     "name": "stdout",
     "output_type": "stream",
     "text": [
      "The variance of the list is 8.25\n"
     ]
    }
   ],
   "source": [
    "# Calculating the variance of the list\n",
    "variance=sum((x-mean)**2 for x in number_list)/len(number_list)\n",
    "print(\"The variance of the list is {}\".format(variance))"
   ]
  },
  {
   "cell_type": "markdown",
   "id": "c2cbb2c0",
   "metadata": {},
   "source": [
    "### 6. Standard Deviation\n"
   ]
  },
  {
   "cell_type": "code",
   "execution_count": 25,
   "id": "2fd8fc73",
   "metadata": {},
   "outputs": [
    {
     "name": "stdout",
     "output_type": "stream",
     "text": [
      "The standard deviation of the list is 2.8722813232690143\n"
     ]
    }
   ],
   "source": [
    "# Calculating the standard deviation of the list\n",
    "standard_deviation=np.sqrt(variance)\n",
    "standard_deviation\n",
    "print(\"The standard deviation of the list is {}\".format(standard_deviation))"
   ]
  },
  {
   "cell_type": "code",
   "execution_count": 28,
   "id": "a635fd56",
   "metadata": {},
   "outputs": [
    {
     "name": "stdout",
     "output_type": "stream",
     "text": [
      "The minimum element of the list is 1\n",
      ", The maximum element of the list is 10\n",
      ", The range of the list is 9.\n",
      " The mean of the list is 5.5.\n",
      " The variance of the list is 8.25.\n",
      " The standard deviation of the list is 2.8722813232690143.\n"
     ]
    }
   ],
   "source": [
    "print(\"The minimum element of the list is {1}\\n, The maximum element of the list is {0}\\n, The range of the list is {2}.\\n The mean of the list is {3}.\\n The variance of the list is {4}.\\n The standard deviation of the list is {5}.\".format(maximum, minimum, range_of_list, mean, variance, standard_deviation))"
   ]
  },
  {
   "cell_type": "code",
   "execution_count": null,
   "id": "85bc4fa5",
   "metadata": {},
   "outputs": [],
   "source": []
  }
 ],
 "metadata": {
  "kernelspec": {
   "display_name": "Python 3 (ipykernel)",
   "language": "python",
   "name": "python3"
  },
  "language_info": {
   "codemirror_mode": {
    "name": "ipython",
    "version": 3
   },
   "file_extension": ".py",
   "mimetype": "text/x-python",
   "name": "python",
   "nbconvert_exporter": "python",
   "pygments_lexer": "ipython3",
   "version": "3.9.7"
  }
 },
 "nbformat": 4,
 "nbformat_minor": 5
}
