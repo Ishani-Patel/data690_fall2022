{
  "nbformat": 4,
  "nbformat_minor": 0,
  "metadata": {
    "colab": {
      "provenance": [],
      "authorship_tag": "ABX9TyMjejwTchWFmtxjjzAxuXvN",
      "include_colab_link": true
    },
    "kernelspec": {
      "name": "python3",
      "display_name": "Python 3"
    },
    "language_info": {
      "name": "python"
    }
  },
  "cells": [
    {
      "cell_type": "markdown",
      "metadata": {
        "id": "view-in-github",
        "colab_type": "text"
      },
      "source": [
        "<a href=\"https://colab.research.google.com/github/Ishani-Patel/data690_fall2022/blob/main/assignment_03/assignment_03.ipynb\" target=\"_parent\"><img src=\"https://colab.research.google.com/assets/colab-badge.svg\" alt=\"Open In Colab\"/></a>"
      ]
    },
    {
      "cell_type": "markdown",
      "source": [
        "### Data 690 Assignment_03\n",
        "* Name: Ishani Mayur Patel\n",
        "* Student ID:KV93419"
      ],
      "metadata": {
        "id": "sgXhqKIlauof"
      }
    },
    {
      "cell_type": "code",
      "execution_count": 2,
      "metadata": {
        "id": "pAuvJ1rjacpW"
      },
      "outputs": [],
      "source": [
        "import random\n",
        "size=10"
      ]
    },
    {
      "cell_type": "code",
      "source": [
        "lst= []\n",
        "in_lst= []\n",
        "for i in range(size):\n",
        "  for j in range(size):\n",
        "    in_lst.append(random.randint(0,9))\n",
        "  lst.append(in_lst)\n",
        "  in_lst = []"
      ],
      "metadata": {
        "id": "yugTl59RRwyg"
      },
      "execution_count": 3,
      "outputs": []
    },
    {
      "cell_type": "markdown",
      "source": [
        "####Print them in a 10 by 10 matrix neatly arranged like the following (one space between each number):\n"
      ],
      "metadata": {
        "id": "9Oqwz-Gr9Adj"
      }
    },
    {
      "cell_type": "code",
      "source": [
        "for i in range(len(lst)):\n",
        "  for j in range(len(lst[i])):  \n",
        "    print(lst[i][j], end=\"  \")\n",
        "  print(\"\\n\")"
      ],
      "metadata": {
        "colab": {
          "base_uri": "https://localhost:8080/"
        },
        "id": "nCj9fvL9RkNd",
        "outputId": "b674598f-3856-4929-9ca8-2b8299f5099f"
      },
      "execution_count": 4,
      "outputs": [
        {
          "output_type": "stream",
          "name": "stdout",
          "text": [
            "1  8  1  1  1  6  1  9  2  0  \n",
            "\n",
            "1  7  2  1  1  2  1  8  8  2  \n",
            "\n",
            "8  0  0  2  8  8  4  4  3  5  \n",
            "\n",
            "1  9  8  0  2  7  0  4  2  4  \n",
            "\n",
            "6  0  4  7  1  7  5  5  8  5  \n",
            "\n",
            "4  1  0  0  6  2  7  8  5  0  \n",
            "\n",
            "0  8  8  5  2  1  6  4  8  5  \n",
            "\n",
            "8  9  4  6  6  0  5  7  2  3  \n",
            "\n",
            "8  5  0  2  3  5  5  9  4  1  \n",
            "\n",
            "5  7  1  7  7  5  6  5  6  9  \n",
            "\n"
          ]
        }
      ]
    },
    {
      "cell_type": "markdown",
      "source": [
        "####If the random number is an odd number, print \"@\" instead. like the following:"
      ],
      "metadata": {
        "id": "NblOxaLL9Tdt"
      }
    },
    {
      "cell_type": "code",
      "source": [
        "for i in range(len(lst)):\n",
        "  for j in range(len(lst[i])):\n",
        "    if lst[i][j] % 2==0:\n",
        "      print(lst[i][j], end=\"  \")\n",
        "    else:\n",
        "      print(\"@\",end=\"  \")\n",
        "  print(\"\\n\")"
      ],
      "metadata": {
        "colab": {
          "base_uri": "https://localhost:8080/"
        },
        "id": "EVlXPE8Akltg",
        "outputId": "11d17d70-c6c9-4dbc-b7b5-a697d0cb789a"
      },
      "execution_count": 5,
      "outputs": [
        {
          "output_type": "stream",
          "name": "stdout",
          "text": [
            "@  8  @  @  @  6  @  @  2  0  \n",
            "\n",
            "@  @  2  @  @  2  @  8  8  2  \n",
            "\n",
            "8  0  0  2  8  8  4  4  @  @  \n",
            "\n",
            "@  @  8  0  2  @  0  4  2  4  \n",
            "\n",
            "6  0  4  @  @  @  @  @  8  @  \n",
            "\n",
            "4  @  0  0  6  2  @  8  @  0  \n",
            "\n",
            "0  8  8  @  2  @  6  4  8  @  \n",
            "\n",
            "8  @  4  6  6  0  @  @  2  @  \n",
            "\n",
            "8  @  0  2  @  @  @  @  4  @  \n",
            "\n",
            "@  @  @  @  @  @  6  @  6  @  \n",
            "\n"
          ]
        }
      ]
    },
    {
      "cell_type": "markdown",
      "source": [
        "####Calculate and Print the total of each row like the following (use \"*\" to separate the total from the numbers):"
      ],
      "metadata": {
        "id": "4tVmZu8k9cjj"
      }
    },
    {
      "cell_type": "code",
      "source": [
        "row_sum = []\n",
        "for i in range(len(lst)):\n",
        "  total_r = 0\n",
        "  for j in range(len(lst[i])):\n",
        "    total_r=total_r+lst[i][j]\n",
        "    print(lst[i][j], end=\" \")\n",
        "  row_sum.append(total_r)\n",
        "  print(\"* {}\\n\".format(total_r))"
      ],
      "metadata": {
        "colab": {
          "base_uri": "https://localhost:8080/"
        },
        "id": "f-F2X4o6vBVH",
        "outputId": "2e14c524-1761-4599-c493-d45f144e297c"
      },
      "execution_count": 6,
      "outputs": [
        {
          "output_type": "stream",
          "name": "stdout",
          "text": [
            "1 8 1 1 1 6 1 9 2 0 * 30\n",
            "\n",
            "1 7 2 1 1 2 1 8 8 2 * 33\n",
            "\n",
            "8 0 0 2 8 8 4 4 3 5 * 42\n",
            "\n",
            "1 9 8 0 2 7 0 4 2 4 * 37\n",
            "\n",
            "6 0 4 7 1 7 5 5 8 5 * 48\n",
            "\n",
            "4 1 0 0 6 2 7 8 5 0 * 33\n",
            "\n",
            "0 8 8 5 2 1 6 4 8 5 * 47\n",
            "\n",
            "8 9 4 6 6 0 5 7 2 3 * 50\n",
            "\n",
            "8 5 0 2 3 5 5 9 4 1 * 42\n",
            "\n",
            "5 7 1 7 7 5 6 5 6 9 * 58\n",
            "\n"
          ]
        }
      ]
    },
    {
      "cell_type": "markdown",
      "source": [
        "####Surround the matrix with asterisks (*) like the following:"
      ],
      "metadata": {
        "id": "_XFU2bVj9oaR"
      }
    },
    {
      "cell_type": "code",
      "source": [
        "# for i in range(23):\n",
        "#   print(\"*\",end=\"\")\n",
        "# print(\"\\n\")\n",
        "# for i in range(size):\n",
        "#   print(\"* \",end=\"\")\n",
        "#   for j in range(size):\n",
        "#     print(random.randint(0,9),end=\" \")\n",
        "#   print(\"*\\n\")\n",
        "# for i in range(23):\n",
        "#   print(\"*\",end=\"\")\n",
        "\n",
        "for i in range(len(lst)):\n",
        "  if i == 0:\n",
        "    for i in range(i+1):\n",
        "      for j in range(len(lst[i])+1):\n",
        "        print('*', end=\"**\")\n",
        "      print('\\n')\n",
        "    \n",
        "      for i in range(len(lst)):\n",
        "        print(\"*\",end=\" \")\n",
        "        for j in range(len(lst[i])):\n",
        "          print(lst[i][j], end=\"  \")\n",
        "        print(\"*\\n\")\n",
        "  if i == len(lst)-1:\n",
        "      for j in range(len(lst[i])-2):\n",
        "        print('*', end=\"*\")"
      ],
      "metadata": {
        "colab": {
          "base_uri": "https://localhost:8080/"
        },
        "id": "uwHDQ_mLxjcr",
        "outputId": "3974188c-bb4b-4652-f16f-ebf78239bec1"
      },
      "execution_count": 10,
      "outputs": [
        {
          "output_type": "stream",
          "name": "stdout",
          "text": [
            "*********************************\n",
            "\n",
            "* 1  8  1  1  1  6  1  9  2  0  *\n",
            "\n",
            "* 1  7  2  1  1  2  1  8  8  2  *\n",
            "\n",
            "* 8  0  0  2  8  8  4  4  3  5  *\n",
            "\n",
            "* 1  9  8  0  2  7  0  4  2  4  *\n",
            "\n",
            "* 6  0  4  7  1  7  5  5  8  5  *\n",
            "\n",
            "* 4  1  0  0  6  2  7  8  5  0  *\n",
            "\n",
            "* 0  8  8  5  2  1  6  4  8  5  *\n",
            "\n",
            "* 8  9  4  6  6  0  5  7  2  3  *\n",
            "\n",
            "* 8  5  0  2  3  5  5  9  4  1  *\n",
            "\n",
            "* 5  7  1  7  7  5  6  5  6  9  *\n",
            "\n",
            "********************************"
          ]
        }
      ]
    },
    {
      "cell_type": "code",
      "source": [
        "column_sum = []\n",
        "for j in range(len(lst[i])):\n",
        "  total_c = 0\n",
        "  for i in range(len(lst)):\n",
        "    total_c=total_c+lst[i][j]\n",
        "    #print(lst[i][j], end=\" \")\n",
        "  column_sum.append(total_c)\n",
        " # print(\"* {}\\n\".format(total_c))"
      ],
      "metadata": {
        "id": "hSIlcanA-0oB"
      },
      "execution_count": 11,
      "outputs": []
    },
    {
      "cell_type": "markdown",
      "source": [
        "####Calculate and Print the total of each row and column like the following:"
      ],
      "metadata": {
        "id": "whmhJGma9zNE"
      }
    },
    {
      "cell_type": "code",
      "source": [
        "for i in range(0,len(lst)):\n",
        "  for j in range(0,len(lst[i])):\n",
        "    print(lst[i][j], end=\"  \")\n",
        "  print(\"* {}\\n\".format(row_sum[i]))\n",
        "  if i == len(lst)-1:\n",
        "    for i in range(i,len(lst)):\n",
        "      for j in range(0,len(lst)):\n",
        "        print('*', end= \"  \")\n",
        "      print(\"\\n\")\n",
        "    for i in range(i,len(lst)):\n",
        "      for j in range(0,len(lst)):\n",
        "        print(column_sum[j], end= \" \")\n",
        "        \n"
      ],
      "metadata": {
        "colab": {
          "base_uri": "https://localhost:8080/"
        },
        "id": "ReSZWOMDCPKF",
        "outputId": "27f1e5c3-ec8d-4f3e-d06a-ac456aaaee78"
      },
      "execution_count": 12,
      "outputs": [
        {
          "output_type": "stream",
          "name": "stdout",
          "text": [
            "1  8  1  1  1  6  1  9  2  0  * 30\n",
            "\n",
            "1  7  2  1  1  2  1  8  8  2  * 33\n",
            "\n",
            "8  0  0  2  8  8  4  4  3  5  * 42\n",
            "\n",
            "1  9  8  0  2  7  0  4  2  4  * 37\n",
            "\n",
            "6  0  4  7  1  7  5  5  8  5  * 48\n",
            "\n",
            "4  1  0  0  6  2  7  8  5  0  * 33\n",
            "\n",
            "0  8  8  5  2  1  6  4  8  5  * 47\n",
            "\n",
            "8  9  4  6  6  0  5  7  2  3  * 50\n",
            "\n",
            "8  5  0  2  3  5  5  9  4  1  * 42\n",
            "\n",
            "5  7  1  7  7  5  6  5  6  9  * 58\n",
            "\n",
            "*  *  *  *  *  *  *  *  *  *  \n",
            "\n",
            "42 54 28 31 37 43 40 63 48 34 "
          ]
        }
      ]
    },
    {
      "cell_type": "code",
      "source": [],
      "metadata": {
        "id": "ZgL4kQzhFq2-"
      },
      "execution_count": null,
      "outputs": []
    }
  ]
}